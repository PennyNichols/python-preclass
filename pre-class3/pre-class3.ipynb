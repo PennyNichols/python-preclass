{
 "cells": [
  {
   "cell_type": "code",
   "execution_count": 1,
   "metadata": {},
   "outputs": [
    {
     "name": "stdout",
     "output_type": "stream",
     "text": [
      "225\n"
     ]
    }
   ],
   "source": [
    "def first_function(arg1, arg2):\n",
    "    print(arg1**2 * arg2**2)\n",
    "\n",
    "first_function(3,5)"
   ]
  },
  {
   "cell_type": "code",
   "execution_count": 3,
   "metadata": {},
   "outputs": [
    {
     "name": "stdout",
     "output_type": "stream",
     "text": [
      "15\n",
      "hello hello hello \n"
     ]
    }
   ],
   "source": [
    "def multiply(a,b):\n",
    "    print(a*b)\n",
    "\n",
    "multiply(3,5)\n",
    "multiply('hello ', 3)"
   ]
  },
  {
   "cell_type": "code",
   "execution_count": 4,
   "metadata": {},
   "outputs": [
    {
     "name": "stdout",
     "output_type": "stream",
     "text": [
      "Don't hesitate to reinvent yourself!\n"
     ]
    }
   ],
   "source": [
    "def motto():\n",
    "    print(\"Don't hesitate to reinvent yourself!\")\n",
    "\n",
    "motto()"
   ]
  },
  {
   "cell_type": "code",
   "execution_count": 5,
   "metadata": {},
   "outputs": [
    {
     "name": "stdout",
     "output_type": "stream",
     "text": [
      "50\n",
      "50\n"
     ]
    }
   ],
   "source": [
    "def multiply_1(a, b) :\n",
    "    print(a * b)  # it prints something\n",
    "\n",
    "def multiply_2(a, b) :\n",
    "    return a * b  # returns any numeric data type value\n",
    "\n",
    "multiply_1(10, 5)\n",
    "print(multiply_2(10, 5))"
   ]
  },
  {
   "cell_type": "code",
   "execution_count": 6,
   "metadata": {},
   "outputs": [
    {
     "name": "stdout",
     "output_type": "stream",
     "text": [
      "Your first name is : Guido\n",
      "Your last name is : van Rossum\n",
      "\n",
      "Your first name is : Marry\n",
      "Your last name is : Bold\n"
     ]
    }
   ],
   "source": [
    "def who(first, last) :  # 'first' and 'last' are the parameters(or variables)\n",
    "    print('Your first name is :', first)\n",
    "    print('Your last name is :', last)\n",
    "\n",
    "who('Guido', 'van Rossum')  # 'Guido' and 'van Rossum' are the arguments\n",
    "print()\n",
    "who('Marry', 'Bold')  # 'Marry' and 'Bold' are also the arguments"
   ]
  },
  {
   "cell_type": "code",
   "execution_count": 8,
   "metadata": {},
   "outputs": [
    {
     "name": "stdout",
     "output_type": "stream",
     "text": [
      "-- This parrot wouldn't voom if you put 1000 volts through it.\n",
      "-- Lovely plumage, the Norwegian Blue\n",
      "-- It's a stiff !\n",
      "-- This parrot wouldn't voom if you put 1000 volts through it.\n",
      "-- Lovely plumage, the Norwegian Blue\n",
      "-- It's a stiff !\n",
      "-- This parrot wouldn't VOOOOOM if you put 1000000 volts through it.\n",
      "-- Lovely plumage, the Norwegian Blue\n",
      "-- It's a stiff !\n",
      "-- This parrot wouldn't VOOOOOM if you put 1000000 volts through it.\n",
      "-- Lovely plumage, the Norwegian Blue\n",
      "-- It's a stiff !\n",
      "-- This parrot wouldn't jump if you put a million volts through it.\n",
      "-- Lovely plumage, the Norwegian Blue\n",
      "-- It's bereft of life !\n",
      "-- This parrot wouldn't voom if you put a thousand volts through it.\n",
      "-- Lovely plumage, the Norwegian Blue\n",
      "-- It's pushing up the daisies !\n"
     ]
    }
   ],
   "source": [
    "def parrot(voltage, state='a stiff', action='voom', type='Norwegian Blue'):\n",
    "    print(\"-- This parrot wouldn't\", action, end=' ')\n",
    "    print(\"if you put\", voltage, \"volts through it.\")\n",
    "    print(\"-- Lovely plumage, the\", type)\n",
    "    print(\"-- It's\", state, \"!\")\n",
    "\n",
    "parrot(1000)                                          # 1 positional argument\n",
    "parrot(voltage=1000)                                  # 1 keyword argument\n",
    "parrot(voltage=1000000, action='VOOOOOM')             # 2 keyword arguments\n",
    "parrot(action='VOOOOOM', voltage=1000000)             # 2 keyword arguments \n",
    "parrot('a million', 'bereft of life', 'jump')         # 3 positional arguments\n",
    "parrot('a thousand', state='pushing up the daisies')  # 1 positional, 1 keyword\n"
   ]
  },
  {
   "cell_type": "code",
   "execution_count": 9,
   "metadata": {},
   "outputs": [
    {
     "name": "stdout",
     "output_type": "stream",
     "text": [
      "Athens in Europe\n",
      "Ulaanbaatar in Asia\n",
      "Cape Town in Africa\n"
     ]
    }
   ],
   "source": [
    "def city(capital, continent='Europe'):\n",
    "    print(capital, 'in', continent)\n",
    "\n",
    "city('Athens')  # we don't have to pass any arguments into 'continent'\n",
    "city('Ulaanbaatar', continent='Asia')  # we can change the default value by kwargs\n",
    "city('Cape Town', 'Africa')  # we can change the default value by positional args."
   ]
  },
  {
   "cell_type": "code",
   "execution_count": 10,
   "metadata": {},
   "outputs": [
    {
     "name": "stdout",
     "output_type": "stream",
     "text": [
      "I want to get orange and banana\n"
     ]
    }
   ],
   "source": [
    "def fruiterer(fruit1, fruit2) :\n",
    "    print('I want to get', fruit1, 'and', fruit2)\n",
    "        \n",
    "fruiterer('orange', 'banana')"
   ]
  },
  {
   "cell_type": "code",
   "execution_count": 11,
   "metadata": {},
   "outputs": [
    {
     "name": "stdout",
     "output_type": "stream",
     "text": [
      "I want to get :\n",
      "- orange\n",
      "- banana\n",
      "- melon\n",
      "- ananas\n"
     ]
    }
   ],
   "source": [
    "def fruiterer(*fruit) :\n",
    "    print('I want to get :')\n",
    "    for i in fruit :\n",
    "        print('-', i)\n",
    "        \n",
    "fruiterer('orange', 'banana', 'melon', 'ananas')"
   ]
  },
  {
   "cell_type": "code",
   "execution_count": 12,
   "metadata": {},
   "outputs": [
    {
     "name": "stdout",
     "output_type": "stream",
     "text": [
      "Lions are Carnivores\n",
      "Bears are Omnivores\n",
      "Deers are Herbivores\n",
      "Human are Nomnivores\n"
     ]
    }
   ],
   "source": [
    "def animals(**kwargs):\n",
    "    for key, value in kwargs.items():\n",
    "        print(value, \"are\", key)\n",
    " \n",
    "animals(Carnivores=\"Lions\", Omnivores=\"Bears\", Herbivores=\"Deers\", Nomnivores=\"Human\")"
   ]
  },
  {
   "cell_type": "code",
   "execution_count": 13,
   "metadata": {},
   "outputs": [
    {
     "name": "stdout",
     "output_type": "stream",
     "text": [
      "Here are the names of brothers :\n",
      "tom\n",
      "sue\n",
      "tim\n"
     ]
    }
   ],
   "source": [
    "def brothers(bro1, bro2, bro3):\n",
    "    print('Here are the names of brothers :')\n",
    "    print(bro1, bro2, bro3, sep='\\n')\n",
    "\n",
    "family = ['tom', 'sue', 'tim']\n",
    "brothers(*family)"
   ]
  },
  {
   "cell_type": "code",
   "execution_count": 14,
   "metadata": {},
   "outputs": [
    {
     "name": "stdout",
     "output_type": "stream",
     "text": [
      "Fred belongs to Generation X\n",
      "Marry belongs to Generation Y\n"
     ]
    }
   ],
   "source": [
    "def gene(x, y):  # defined by positional args\n",
    "    print(x, \"belongs to Generation X\")\n",
    "    print(y, \"belongs to Generation Y\")\n",
    " \n",
    "dict_gene = {'y' : \"Marry\", 'x' : \"Fred\"}\n",
    "gene(**dict_gene)  # we call the function by a single argument(variable)\n"
   ]
  },
  {
   "cell_type": "code",
   "execution_count": 15,
   "metadata": {},
   "outputs": [
    {
     "name": "stdout",
     "output_type": "stream",
     "text": [
      "Fred belongs to Generation X\n",
      "Marry belongs to Generation Y\n"
     ]
    }
   ],
   "source": [
    "def gene(x='Solomon', y='David'):  # defined by kwargs (default values assigned to x and y)\n",
    "    print(x, \"belongs to Generation X\")\n",
    "    print(y, \"belongs to Generation Y\")\n",
    " \n",
    "dict_gene = {'y' : \"Marry\", 'x' : \"Fred\"}\n",
    "gene(**dict_gene) "
   ]
  },
  {
   "cell_type": "code",
   "execution_count": null,
   "metadata": {},
   "outputs": [],
   "source": [
    "def a_function(pos1, pos2, /, pos_or_kwarg, *, kwarg1, kwarg2, **kwargs) :\n"
   ]
  }
 ],
 "metadata": {
  "kernelspec": {
   "display_name": "Python 3.11.0 64-bit",
   "language": "python",
   "name": "python3"
  },
  "language_info": {
   "codemirror_mode": {
    "name": "ipython",
    "version": 3
   },
   "file_extension": ".py",
   "mimetype": "text/x-python",
   "name": "python",
   "nbconvert_exporter": "python",
   "pygments_lexer": "ipython3",
   "version": "3.11.0"
  },
  "orig_nbformat": 4,
  "vscode": {
   "interpreter": {
    "hash": "ac03433bef3bb9a934b0014c4b5537320df1aa82d9338bf368b04657a1d3ce08"
   }
  }
 },
 "nbformat": 4,
 "nbformat_minor": 2
}
