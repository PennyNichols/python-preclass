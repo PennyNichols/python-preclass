{
 "cells": [
  {
   "attachments": {},
   "cell_type": "markdown",
   "metadata": {},
   "source": [
    "Lambda functions are also called anonymous functions since they have no name. We use keyword lambda to define a function.\n",
    "\n",
    "The formula syntax is :\n",
    "lambda parameters : expression\n"
   ]
  },
  {
   "cell_type": "code",
   "execution_count": null,
   "metadata": {},
   "outputs": [],
   "source": [
    "lambda x: x**2\n"
   ]
  },
  {
   "attachments": {},
   "cell_type": "markdown",
   "metadata": {},
   "source": [
    "A lambda function can take multiple arguments separated by commas, but it must be defined with a single expression. This expression is evaluated and the result is returned\n",
    "\n",
    "⚠️Avoid:\n",
    "Note that you do not need to use return statement in lambda functions.\n",
    "\n",
    "Consider the following example of multiple arguments.\n"
   ]
  },
  {
   "cell_type": "code",
   "execution_count": null,
   "metadata": {},
   "outputs": [],
   "source": [
    "lambda x, y: (x+y)/2  # takes two numbers, returns the result\n"
   ]
  },
  {
   "attachments": {},
   "cell_type": "markdown",
   "metadata": {},
   "source": [
    "need to use conditional statements within the lambda definition? Here how we do it :\n",
    "\n",
    "The formula syntax of conditional lambda statement is :\n",
    "\n",
    "lambda parameters : first_result if conditional statement else second_result\n",
    "\n",
    "⚠️Avoid:\n",
    "Note that you can't use the usual conditional statement with lambda definition.\n"
   ]
  },
  {
   "cell_type": "code",
   "execution_count": null,
   "metadata": {},
   "outputs": [],
   "source": [
    "lambda x: 'odd' if x % 2 != 0 else 'even'\n"
   ]
  },
  {
   "attachments": {},
   "cell_type": "markdown",
   "metadata": {},
   "source": [
    "Q: What is a lambda function?\n",
    "\n",
    "A: A lambda function is an anonymous function (a function that does not have a name) in Python. To define anonymous functions, we use the ‘lambda’ keyword instead of the ‘def’ keyword, hence the name ‘lambda function’. Lambda functions can have any number of arguments but only one statement.\n",
    "\n",
    "- Interview Q&A\n"
   ]
  },
  {
   "attachments": {},
   "cell_type": "markdown",
   "metadata": {},
   "source": [
    "Lambda's most important advantages and uses are:\n",
    "\n",
    "You can use it with its own syntax using parentheses,\n",
    "You can also assign it to a variable,\n",
    "You can use it in several built-in functions,\n",
    "It can be useful inside user-defined functions (def).\n"
   ]
  },
  {
   "attachments": {},
   "cell_type": "markdown",
   "metadata": {},
   "source": [
    "By enclosing the function in parentheses :\n",
    "\n",
    "The formula syntax is :\n",
    "\n",
    "(lambda parameters : expression)(arguments)\n"
   ]
  },
  {
   "cell_type": "code",
   "execution_count": 2,
   "metadata": {},
   "outputs": [
    {
     "name": "stdout",
     "output_type": "stream",
     "text": [
      "4\n",
      "4.0\n"
     ]
    }
   ],
   "source": [
    "print((lambda x: x**2)(2))  # squares '2'\n",
    "\n",
    "# Or you can use multiple arguments using the same syntax :\n",
    "\n",
    "print((lambda x, y: (x+y)/2)(3, 5))  # takes two int, returns mean of them\n",
    "\n",
    "# You can also assign the lambda statement in parentheses to a variable :\n",
    "\n",
    "average = (lambda x, y: (x+y)/2)(3, 5)\n",
    "print(average)\n"
   ]
  },
  {
   "attachments": {},
   "cell_type": "markdown",
   "metadata": {},
   "source": [
    "By assigning a function object to a variable :\n",
    "\n",
    "Alternatively, you can assign the lambda function definition to a variable then you can call it :"
   ]
  },
  {
   "cell_type": "code",
   "execution_count": 3,
   "metadata": {},
   "outputs": [
    {
     "name": "stdout",
     "output_type": "stream",
     "text": [
      "4.0\n"
     ]
    }
   ],
   "source": [
    "average = lambda x, y: (x+y)/2\n",
    "print(average(3, 5))  # we call"
   ]
  },
  {
   "attachments": {},
   "cell_type": "markdown",
   "metadata": {},
   "source": [
    "Q: What Are The Principal Differences Between The Lambda And Def?\n",
    "\n",
    "A:\n",
    "- Def can hold multiple expressions while lambda is a uni-expression function.\n",
    "- Def generates a function and designates a name to call it later. Lambda forms a function        object and returns it.\n",
    "- Def can have a return statement. Lambda can’t have return statements. \n",
    "- Lambda supports to get used inside a list and dictionary.\n",
    "\n",
    "\n",
    "- Interview Q&A"
   ]
  },
  {
   "attachments": {},
   "cell_type": "markdown",
   "metadata": {},
   "source": [
    "Lambda within Built-in (map()) Functions-1\n",
    "When using some built-in functions we may need additional functions inside them. This can be done by using def, but when we do the same thing with lambda we save both time and additional lines of code and we make it clear to read.\n",
    "\n",
    "Lambda within map() function :\n",
    "\n",
    "map() returns a list of the outputs after applying the given function to each element of a given iterable object such as list, tuple, etc.\n",
    "\n",
    "The basic formula syntax is : \n",
    "\n",
    "map(function, iterable)\n",
    "\n",
    "Let's square all the numbers in the list using map() and lambda. Consider this example :"
   ]
  },
  {
   "cell_type": "code",
   "execution_count": 4,
   "metadata": {},
   "outputs": [
    {
     "name": "stdout",
     "output_type": "stream",
     "text": [
      "<class 'map'>\n",
      "[1, 4, 9, 16, 25]\n",
      "[1, 4, 9, 16, 25]\n"
     ]
    }
   ],
   "source": [
    "iterable = [1, 2, 3, 4, 5]\n",
    "map(lambda x:x**2, iterable)\n",
    "result = map(lambda x:x**2, iterable)\n",
    "print(type(result))  # it's a map type\n",
    "\n",
    "print(list(result))  # we've converted it to list type to print\n",
    "\n",
    "print(list(map(lambda x:x**2, iterable)))  # you can print directly"
   ]
  },
  {
   "attachments": {},
   "cell_type": "markdown",
   "metadata": {},
   "source": [
    "Now, let's try to give an example with multiple arguments in lambda function using map() :\n",
    "\n",
    "💡Tips :\n",
    "Note that map() takes each element from iterable objects one by one and in order."
   ]
  },
  {
   "cell_type": "code",
   "execution_count": 5,
   "metadata": {},
   "outputs": [
    {
     "name": "stdout",
     "output_type": "stream",
     "text": [
      "['one', 'six', 'ten', 'two']\n"
     ]
    }
   ],
   "source": [
    "letter1 = ['o', 's', 't', 't']\n",
    "letter2 = ['n', 'i', 'e', 'w']\n",
    "letter3 = ['e', 'x', 'n', 'o']\n",
    "numbers = map(lambda x, y, z: x+y+z, letter1, letter2, letter3)\n",
    "\n",
    "print(list(numbers))"
   ]
  },
  {
   "attachments": {},
   "cell_type": "markdown",
   "metadata": {},
   "source": [
    "Q: What is map function in Python?\n",
    "\n",
    "A: map function executes the function given as the first argument on all the elements of the iterable given as the second argument. If the function given takes in more than 1 arguments, then many iterables are given. \n",
    "\n",
    "- Interview Q&A"
   ]
  },
  {
   "attachments": {},
   "cell_type": "markdown",
   "metadata": {},
   "source": [
    "Lambda within Built-in (filter()) Functions-2\n",
    "\n",
    "Lambda within filter() function :\n",
    "\n",
    "filter() filters the given sequence (iterable objects) with the help of a function (lambda) that tests each element in the sequence to be true or not.\n",
    "\n",
    "The basic formula syntax is : \n",
    "\n",
    "filter(function, sequence)\n",
    "\n",
    "Let's grasp the subject with an example in which we'll filter the even numbers in a list.\n",
    "\n",
    "💡Tips :\n",
    "Note that filter() filters each element in the iterable object, depending on whether the function's result is True or False."
   ]
  },
  {
   "cell_type": "code",
   "execution_count": 7,
   "metadata": {},
   "outputs": [
    {
     "name": "stdout",
     "output_type": "stream",
     "text": [
      "<class 'filter'>\n",
      "Even numbers are : [0, 2, 4, 6, 8]\n",
      "Vowels are : ['a', 'e', 'i']\n"
     ]
    }
   ],
   "source": [
    "first_ten = [0, 1, 2, 3, 4, 5, 6, 7, 8, 9] \n",
    "  \n",
    "even = filter(lambda x:x%2==0, first_ten) \n",
    "print(type(even))  # it's 'filter' type, \n",
    "                   # in order to print the result,\n",
    "                   # we'd better convert it into the list type\n",
    "\n",
    "print('Even numbers are :', list(even))\n",
    "\n",
    "\n",
    "# filter the vowels from the first ten letters in the list.\n",
    "\n",
    "vowel_list = ['a', 'e', 'i', 'o', 'u']\n",
    "first_ten = ['a', 'b', 'c', 'd', 'e', 'f', 'g', 'h', 'i', 'j']\n",
    "  \n",
    "vowels = filter(lambda x: True if x in vowel_list else False, first_ten) \n",
    "\n",
    "print('Vowels are :', list(vowels))"
   ]
  },
  {
   "attachments": {},
   "cell_type": "markdown",
   "metadata": {},
   "source": [
    "Lambda within User-Defined Functions\n",
    "\n",
    "Lambda within def :\n",
    "\n",
    "Using a lambda statement in a user-defined function provides us useful opportunities. We can define a group of functions that we may use later in our program flow. \n",
    "\n",
    "Take a look at the following example :"
   ]
  },
  {
   "cell_type": "code",
   "execution_count": null,
   "metadata": {},
   "outputs": [],
   "source": [
    "def modular_function(n):\n",
    "    return lambda x: x ** n\n",
    "    \n",
    "power_of_2 = modular_function(2)  # first sub-function derived from def\n",
    "power_of_3 = modular_function(3)  # second sub-function derived from def\n",
    "power_of_4 = modular_function(4)  # third sub-function derived from def\n",
    "\n",
    "print(power_of_2(2))  # 2 to the power of 2\n",
    "print(power_of_3(2))  # 2 to the power of 3\n",
    "print(power_of_4(2))  # 2 to the power of 4"
   ]
  },
  {
   "attachments": {},
   "cell_type": "markdown",
   "metadata": {},
   "source": [
    "The modular_function takes one argument, number n, and returns a function that takes the power of any given number x by that n.\n",
    "\n",
    "This usage enabled us to use a function as flexible. Thanks to lambda, we could use a single def in different ways with the arguments we wanted. We've created three sub-functions derived from a single def. This is flexibility!"
   ]
  },
  {
   "cell_type": "code",
   "execution_count": 8,
   "metadata": {},
   "outputs": [
    {
     "name": "stdout",
     "output_type": "stream",
     "text": [
      "alex alex \n",
      "lara lara lara \n",
      "linda linda linda linda \n"
     ]
    }
   ],
   "source": [
    "def repeater(n):\n",
    "    return lambda x: x * n\n",
    "    \n",
    "repeat_2_times = repeater(2)  # repeats 2 times\n",
    "repeat_3_times = repeater(3)  # repeats 3 times\n",
    "repeat_4_times = repeater(4)  # repeats 4 times\n",
    "\n",
    "print(repeat_2_times('alex '))\n",
    "print(repeat_3_times('lara '))\n",
    "print(repeat_4_times('linda '))"
   ]
  },
  {
   "attachments": {},
   "cell_type": "markdown",
   "metadata": {},
   "source": [
    "Assignment - 1 (Doubler)\n",
    "\n",
    "Given two integer values, return their sum. If the two values are the same, then return double their sum."
   ]
  },
  {
   "cell_type": "code",
   "execution_count": 9,
   "metadata": {},
   "outputs": [],
   "source": [
    "def sum_double(x, y):\n",
    "    if x == y:\n",
    "        return (x+y)*2\n",
    "    else:\n",
    "        return x+y"
   ]
  },
  {
   "attachments": {},
   "cell_type": "markdown",
   "metadata": {},
   "source": [
    "We have a loud talking parrot. We are in trouble if the parrot is talking and the hour is before 6 or after 21.\n",
    "\n",
    "Define a function taking two parameters (talking and hour) to return True if we are in trouble. The argument to  talking parameter can only be True or False whether it is talking or not. The argument to hour parameter should be the current hour time in the range of 0 to 23."
   ]
  },
  {
   "cell_type": "code",
   "execution_count": 10,
   "metadata": {},
   "outputs": [
    {
     "name": "stdout",
     "output_type": "stream",
     "text": [
      "True\n",
      "False\n",
      "False\n"
     ]
    }
   ],
   "source": [
    "def parrot_trouble(talking, hour):\n",
    "    if talking == True and (hour < 6 or hour > 21):\n",
    "        return True\n",
    "    else:\n",
    "        return False\n",
    "\n",
    "print(parrot_trouble(True, 5))\n",
    "print(parrot_trouble(True, 8))\n",
    "print(parrot_trouble(False, 22))"
   ]
  },
  {
   "attachments": {},
   "cell_type": "markdown",
   "metadata": {},
   "source": [
    "Define a function to take a word and return negative meaning.\n",
    "Given a word, return a new word where \"not \" has been added to the front. However, if the word already begins with \"not\", return the string unchanged."
   ]
  },
  {
   "cell_type": "code",
   "execution_count": 20,
   "metadata": {},
   "outputs": [
    {
     "name": "stdout",
     "output_type": "stream",
     "text": [
      "not hello\n",
      "not bad\n"
     ]
    }
   ],
   "source": [
    "def not_string(word):\n",
    "    test = word.startswith('not')\n",
    "    if word.startswith('not') == False:\n",
    "        print('not ' + word)\n",
    "    else:\n",
    "        print(word)\n",
    "\n",
    "word_1='hello'\n",
    "word_2 = 'not bad'\n",
    "\n",
    "not_string(word_1)\n",
    "not_string(word_2)\n",
    "\n"
   ]
  },
  {
   "attachments": {},
   "cell_type": "markdown",
   "metadata": {},
   "source": [
    "Given a non-empty string and an int n, return a new string where the character at index n has been removed. The value of n will be a valid index of a character in the original string (i.e. n will be in the range 0....len(str)-1 inclusive)."
   ]
  },
  {
   "cell_type": "code",
   "execution_count": 28,
   "metadata": {},
   "outputs": [
    {
     "name": "stdout",
     "output_type": "stream",
     "text": [
      "hllo\n"
     ]
    }
   ],
   "source": [
    "def missing_char(word,n):\n",
    "    removed_char = word[n]\n",
    "    return word.replace(removed_char,'')\n",
    "\n",
    "print(missing_char('hello',1))"
   ]
  },
  {
   "attachments": {},
   "cell_type": "markdown",
   "metadata": {},
   "source": [
    "Assignment - 5 (Front-Back Char)\n",
    "\n",
    "Given a string, return a new string where the first and last chars have been exchanged."
   ]
  },
  {
   "cell_type": "code",
   "execution_count": 34,
   "metadata": {},
   "outputs": [
    {
     "name": "stdout",
     "output_type": "stream",
     "text": [
      "ylaruswac\n",
      "a\n",
      "ba\n"
     ]
    }
   ],
   "source": [
    "def front_back(word):\n",
    "    first_char = word[0]\n",
    "    second_char = word[-1]\n",
    "    replace_1 = word.replace(second_char, first_char)\n",
    "    replace_2 = replace_1.replace(first_char, second_char,1)\n",
    "    return replace_2\n",
    "\n",
    "\n",
    "word_1='clarusway'\n",
    "word_2='a'\n",
    "word_3='ab'\n",
    "\n",
    "print(front_back(word_1))\n",
    "print(front_back(word_2))\n",
    "print(front_back(word_3))"
   ]
  },
  {
   "attachments": {},
   "cell_type": "markdown",
   "metadata": {},
   "source": [
    "Assignment - 6 (Find Minimum)\n",
    "\n",
    "Define a function named my_min to find the min of the inputted numbers."
   ]
  },
  {
   "cell_type": "code",
   "execution_count": 39,
   "metadata": {},
   "outputs": [
    {
     "name": "stdout",
     "output_type": "stream",
     "text": [
      "5\n",
      "-9\n",
      "-100\n"
     ]
    }
   ],
   "source": [
    "def my_min(*nums):\n",
    "    smallest = nums[0]\n",
    "    for num in nums:\n",
    "        if num < smallest:\n",
    "            smallest = num\n",
    "    return smallest\n",
    "\n",
    "\n",
    "print(my_min(5,6,7))\n",
    "print(my_min(3,8,-9,0,12,1.2))\n",
    "print(my_min(-100))"
   ]
  },
  {
   "attachments": {},
   "cell_type": "markdown",
   "metadata": {},
   "source": [
    "Assignment - 7 (Sum Numbers)\n",
    "\n",
    "Define a function named my_sum to return the sum of all int type inputted numbers."
   ]
  },
  {
   "cell_type": "code",
   "execution_count": 42,
   "metadata": {},
   "outputs": [
    {
     "name": "stdout",
     "output_type": "stream",
     "text": [
      "12\n",
      "16\n",
      "60\n"
     ]
    }
   ],
   "source": [
    "def my_sum(*nums):\n",
    "    result = 0\n",
    "    for num in nums:\n",
    "        result = result + num\n",
    "    return result\n",
    "\n",
    "\n",
    "print(my_sum(9,1,3,0,-1))\n",
    "print(my_sum(5,7,4))\n",
    "print(my_sum(10,-20,30,40))\n"
   ]
  },
  {
   "attachments": {},
   "cell_type": "markdown",
   "metadata": {},
   "source": [
    "Assignment - 8 (Your Factorial)\n",
    "\n",
    "Define a function named my_fact to calculate factorial of the given number. Given a non-negative integer return the factorial of the integer.\n",
    "\n",
    "(Example: The factorial of 5 is: 5*4*3*2*1 = 120 and factorial of 0 is: 1)"
   ]
  },
  {
   "cell_type": "code",
   "execution_count": 46,
   "metadata": {},
   "outputs": [
    {
     "name": "stdout",
     "output_type": "stream",
     "text": [
      "120\n"
     ]
    }
   ],
   "source": [
    "def my_fact(n):\n",
    "    count = n-1\n",
    "    result = n\n",
    "    while count > 0:\n",
    "        result = result * count\n",
    "        count= count-1\n",
    "    return result\n",
    "\n",
    "\n",
    "print(my_fact(5))"
   ]
  },
  {
   "attachments": {},
   "cell_type": "markdown",
   "metadata": {},
   "source": [
    "Assignment - 9 (The Most Frequent Element)\n",
    "\n",
    "Given a list, return the most frequent (repeating) element.\n",
    "Note : If there are the same number of repeating elements, it returns the first element that repeats most from left to right in the list."
   ]
  },
  {
   "cell_type": "code",
   "execution_count": 57,
   "metadata": {},
   "outputs": [
    {
     "name": "stdout",
     "output_type": "stream",
     "text": [
      "3\n",
      "1\n",
      "1\n"
     ]
    }
   ],
   "source": [
    "def most_freq(given_list):\n",
    "    my_set = set(given_list)\n",
    "    highest_count = 0\n",
    "    most_freq_number = ''\n",
    "    for num in my_set:\n",
    "        current = given_list.count(num)\n",
    "        if current > highest_count:\n",
    "            highest_count = current\n",
    "            most_freq_number = num\n",
    "    return most_freq_number\n",
    "\n",
    "print(most_freq([1,2,3,3,3,3,4,4,5,5])) \n",
    "print(most_freq([1,1,2,3,3])) \n",
    "print(most_freq([3,1,2,1,3])) \n",
    "\n"
   ]
  },
  {
   "attachments": {},
   "cell_type": "markdown",
   "metadata": {},
   "source": [
    "Errors\n",
    "\n",
    "Syntax Errors\n",
    "\n",
    "Typically, they indicate a problem that Python encountered when trying to compile your program, or that your code could not be run.\n",
    "\n",
    "💡Tips:\n",
    "Focusing on the associated value of the SyntaxError often helps solve your problem.\n",
    "\n",
    "To find the source of your error, it is sufficient to know that the error you received is in the syntax.\n",
    "Wrong Parentheses :\n",
    "Wrong Spelling & Typo :\n",
    "Indents :"
   ]
  },
  {
   "attachments": {},
   "cell_type": "markdown",
   "metadata": {},
   "source": [
    "Exceptions\n",
    "\n",
    "This is because of defective line of codes in your program.\n",
    "\n",
    "What is the difference between Syntax errors and Exception errors?\n",
    "\n",
    "Syntax Errors are detected during compiling the program into byte-code.\n",
    "\n",
    "Exception Errors are detected during the program execution (interpretation) process.\n",
    "\n",
    "💡Tips:\n",
    "The exceptions are not the end of the world: you will learn how to deal with them later.\n",
    "\n",
    "Common Exceptions:\n",
    "\n",
    "ValueError : a problem with the content of the object you tried to assign the value to. \n",
    "\n",
    "NameError:  a variable you use in the code stream is not pre-defined or not properly defined.\n",
    "\n",
    "⚠️Attention :\n",
    "Note that the NameError often raises due to the lack of attention to these two things: case-sensitivity of Python and pre-defines of the variables.\n",
    "\n",
    "TypeError : operation or function is applied to an object of inappropriate type.\n",
    "\n",
    "💡Tips:\n",
    "The most useful way you can do about all the errors you can't deal with yourself is to search for the error message on the internet search engine.\n",
    "You can make sure that the errors that you will encounter and their solutions have been experienced by someone previously.\n",
    "\n"
   ]
  },
  {
   "attachments": {},
   "cell_type": "markdown",
   "metadata": {},
   "source": [
    "Q: What are the Errors and Exceptions in Python? \n",
    "\n",
    "A:\n",
    "In Python, there are two types of errors: syntax error and exceptions.\n",
    "\n",
    "Syntax Error: It is also known as parsing errors. Errors are issues in a program which may cause it to exit abnormally. When an error is detected, the parser repeats the offending line and then displays an arrow which points at the earliest point in the line.\n",
    "\n",
    "Exceptions: Exceptions take place in a program when the normal flow of the program is interrupted due to the occurrence of an external event. Even if the syntax of the program is correct, there are chances of detecting an error during execution, this error is nothing but an exception. Some of the examples of exceptions are - ZeroDivisionError, TypeError and NameError.\n",
    "\n",
    "\n",
    "- Interview Q&A"
   ]
  },
  {
   "attachments": {},
   "cell_type": "markdown",
   "metadata": {},
   "source": [
    "Q: Give some examples of standard errors that occour in Python.\n",
    "\n",
    "A:\n",
    "TypeError- It occurs when the expected type does not match with the given type of a variable.\n",
    "\n",
    "ValueError- It occurs when an expected value is not given, suppose you are expecting 6 elements in a list and you gave 2.\n",
    "\n",
    "NameError- It occurs when you are trying to access an undefined variable or a function.\n",
    "\n",
    "IOError- It occurs when you are trying to access a file that does not exist.\n",
    "\n",
    "IndexError- It occurs when you are trying to access an invalid index of a sequence.\n",
    "\n",
    "KeyError- It occurs when you use an invalid key to access a value in the dictionary.\n",
    "\n",
    "- Interview Q&A"
   ]
  },
  {
   "attachments": {},
   "cell_type": "markdown",
   "metadata": {},
   "source": [
    "In some cases, you may need to anticipate exceptions that might disrupt your program flow and take action in advance. This is where exception handling comes into play.\n",
    "\n",
    " suppose we have a block of code that takes two numbers from the user, divides the first number by the second number and prints the output of the division. \n",
    "\n",
    " if the second number is zero, a ZeroDivisionError is raised\n",
    "\n",
    " use try except\n",
    "\n",
    " 💡Tips:\n",
    "Of course, when do this, we anticipate which exception error we will encounter."
   ]
  },
  {
   "cell_type": "code",
   "execution_count": 59,
   "metadata": {},
   "outputs": [
    {
     "name": "stdout",
     "output_type": "stream",
     "text": [
      "Something went wrong...Try again.\n",
      "Something went wrong...Try again.\n",
      "The result of the division is :  2.0\n"
     ]
    }
   ],
   "source": [
    "while True:\n",
    "    no_one = int(input(\"The first number please : \"))\n",
    "    no_two = int(input(\"The second number please : \"))\n",
    "    try:\n",
    "        division = no_one / no_two\n",
    "        print(\"The result of the division is : \", division)\n",
    "        break\n",
    "    except:\n",
    "        print(\"Something went wrong...Try again.\")"
   ]
  },
  {
   "cell_type": "code",
   "execution_count": 60,
   "metadata": {},
   "outputs": [
    {
     "name": "stdout",
     "output_type": "stream",
     "text": [
      "You can't divide by zero! Try again.\n"
     ]
    },
    {
     "ename": "ValueError",
     "evalue": "invalid literal for int() with base 10: 'x'",
     "output_type": "error",
     "traceback": [
      "\u001b[1;31m---------------------------------------------------------------------------\u001b[0m",
      "\u001b[1;31mValueError\u001b[0m                                Traceback (most recent call last)",
      "Cell \u001b[1;32mIn[60], line 3\u001b[0m\n\u001b[0;32m      1\u001b[0m \u001b[39mwhile\u001b[39;00m \u001b[39mTrue\u001b[39;00m:\n\u001b[0;32m      2\u001b[0m     no_one \u001b[39m=\u001b[39m \u001b[39mint\u001b[39m(\u001b[39minput\u001b[39m(\u001b[39m\"\u001b[39m\u001b[39mThe first number please : \u001b[39m\u001b[39m\"\u001b[39m))\n\u001b[1;32m----> 3\u001b[0m     no_two \u001b[39m=\u001b[39m \u001b[39mint\u001b[39;49m(\u001b[39minput\u001b[39;49m(\u001b[39m\"\u001b[39;49m\u001b[39mThe second number please : \u001b[39;49m\u001b[39m\"\u001b[39;49m))\n\u001b[0;32m      4\u001b[0m     \u001b[39mtry\u001b[39;00m:\n\u001b[0;32m      5\u001b[0m         division \u001b[39m=\u001b[39m no_one \u001b[39m/\u001b[39m no_two\n",
      "\u001b[1;31mValueError\u001b[0m: invalid literal for int() with base 10: 'x'"
     ]
    }
   ],
   "source": [
    "while True:\n",
    "    no_one = int(input(\"The first number please : \"))\n",
    "    no_two = int(input(\"The second number please : \"))\n",
    "    try:\n",
    "        division = no_one / no_two\n",
    "        print(\"The result of the division is : \", division)\n",
    "        break\n",
    "    except ZeroDivisionError:\n",
    "        print(\"You can't divide by zero! Try again.\")"
   ]
  },
  {
   "attachments": {},
   "cell_type": "markdown",
   "metadata": {},
   "source": [
    "the full version of try-except:\n",
    "\n",
    "try:\n",
    "    statements   # normal part of the program\n",
    "except:\n",
    "    statements   # when there is an exception\n",
    "else:\n",
    "    statements   # only if no exceptions are raised\n",
    "finally:\n",
    "    statements   # always executed"
   ]
  },
  {
   "attachments": {},
   "cell_type": "markdown",
   "metadata": {},
   "source": [
    "Implementation of the Full 'Exception Handling Block'-1"
   ]
  },
  {
   "cell_type": "code",
   "execution_count": 62,
   "metadata": {},
   "outputs": [
    {
     "name": "stdout",
     "output_type": "stream",
     "text": [
      "You can't divide by zero! Try again.\n",
      "Thanks for using our mini divison calculator! Come again!\n"
     ]
    }
   ],
   "source": [
    "while True:\n",
    "    no_one = int(input(\"The first number please : \"))\n",
    "    no_two = int(input(\"The second number please : \"))\n",
    "    try:\n",
    "        division = no_one / no_two  # normal part of the program\n",
    "    except ZeroDivisionError:\n",
    "        print(\"You can't divide by zero! Try again.\")  # executes when division by zero\n",
    "    else:\n",
    "        print(\"The result of the division is : \", division)  # executes if there is no exception\n",
    "    finally:\n",
    "        print(\"Thanks for using our mini divison calculator! Come again!\")\n",
    "        break  # exits the while loop"
   ]
  },
  {
   "attachments": {},
   "cell_type": "markdown",
   "metadata": {},
   "source": [
    "No matter what exception we encounter, there is a way to see it. Using the keyword Exception. by using the keyword Exception, we can display the name of the exception type. Let's take a look at the following example :"
   ]
  },
  {
   "cell_type": "code",
   "execution_count": 67,
   "metadata": {},
   "outputs": [
    {
     "name": "stdout",
     "output_type": "stream",
     "text": [
      "The error message is :  name 'c' is not defined\n"
     ]
    }
   ],
   "source": [
    "try :\n",
    "    a = 10\n",
    "    b = 2\n",
    "    print(\"The result of division is :\", c)\n",
    "except Exception as e:\n",
    "    print(\"The error message is : \", e)"
   ]
  },
  {
   "attachments": {},
   "cell_type": "markdown",
   "metadata": {},
   "source": [
    "💡Tips:\n",
    "Apart from GeneratorExit, KeyboardInterrupt, SystemExit, the Exception keyword you learned in the previous lesson covers all exceptions."
   ]
  },
  {
   "cell_type": "code",
   "execution_count": 66,
   "metadata": {},
   "outputs": [
    {
     "name": "stdout",
     "output_type": "stream",
     "text": [
      "Something went wrong...Try again.\n",
      "Probably it is because of 'division by zero' error\n"
     ]
    }
   ],
   "source": [
    "while True:\n",
    "    no_one = int(input(\"The first number please : \"))\n",
    "    no_two = int(input(\"The second number please : \"))\n",
    "    try:\n",
    "        division = no_one / no_two\n",
    "        print(\"The result of the division is : \", division)\n",
    "        break\n",
    "    except Exception as e:\n",
    "        print(\"Something went wrong...Try again.\")\n",
    "        print(\"Probably it is because of '{}' error\".format(e))\n",
    "        break"
   ]
  },
  {
   "attachments": {},
   "cell_type": "markdown",
   "metadata": {},
   "source": [
    "Use finally clause to define clean-up actions that must be executed under all circumstances e.g. closing a file. :"
   ]
  },
  {
   "cell_type": "code",
   "execution_count": null,
   "metadata": {},
   "outputs": [],
   "source": [
    "try:\n",
    "    f = open('myfile.txt')\n",
    "    print(f.read())\n",
    "except:\n",
    "    print(\"Something went wrong\")\n",
    "finally:\n",
    "    f. close()"
   ]
  },
  {
   "attachments": {},
   "cell_type": "markdown",
   "metadata": {},
   "source": [
    "File Components\n",
    "\n",
    "Metadata :\n",
    "\n",
    "All the detailed information about a file stored on the computer is called the metadata of that file. As an example, take a look at the following image. For instance, in Windows10, you can right-click on a file and then click properties then choose details to display the metadata. Every time you modify anything about the file, the metadata will be updated accordingly.\n",
    "\n",
    "File Attributes : \n",
    "\n",
    "The other point that we think it would be useful to know about the files is the file attributes. It's the special kind of metadata. Each file has several attributes, but these attributes vary greatly from one OS to another. \n",
    "\n",
    "In other words, File attributes are metadata associated with computer files that define file system behavior. Each attribute can have one of two states: set and cleared. \n",
    "\n",
    "Read-Only (R) : When set, it makes the file read-only and indicates that a file can not be altered. \n",
    "\n",
    "System (S) : When set, it indicates that the hosting file is a critical system file that is necessary for the computer to operate properly.\n",
    "\n",
    "Hidden (H) : When set, it makes the file hidden and indicates that the hosting file is unseen by default.\n",
    "\n",
    "Directories & Folders :\n",
    "\n",
    "organized structure where files are stored.  A directory inside the other directory is generally known as a subdirectory. \n",
    "\n",
    "There is usually one (or multiple if it is partitioned) directory called the root directory, and there are as many subdirectories as needed inside the root directory.\n",
    "\n",
    "'open()' Function :\n",
    "\n",
    "To start working with files, we need to open it first by using a built-in function open(). According to the official related Python documents, it has the following parameters :\n",
    "\n",
    "open (file, mode='r', buffering=-1, encoding=None, errors=None, newline=None, closefd=True, opener=None)\n",
    "\n",
    "file is the only required parameter of the open() function. takes the name of the file that you want to open which is stored in the directory where the Anaconda3 or the Python installed. In other words, the file should be stored in the current working directory. This parameter is a path-like object which is a str or bytes that represents a path in the file directory.  giving the pathname (absolute or relative to the current working directory) of the file to be opened or an integer file descriptor of the file to be wrapped. \n",
    "\n",
    "⚠️Attention ! :\n",
    "Since the interpreter of the Playground is installed on the server, you cannot open, read or write a file on it.\n",
    "\n",
    "open a .txt file object. We passed the required parameter (file) into the open() function.\n",
    "\n",
    "It opens the file and returns a corresponding file-like object. If the file cannot be opened, an OSError is raised. Pay attention to the type of my_file. We have created a file-like object. So we can apply different kinds of methods to my_file."
   ]
  },
  {
   "cell_type": "code",
   "execution_count": null,
   "metadata": {},
   "outputs": [],
   "source": [
    "my_file = open(\"first_file.txt\")  # this syntax opens a 'txt' file \n",
    "\n",
    "print(type(my_file))"
   ]
  },
  {
   "attachments": {},
   "cell_type": "markdown",
   "metadata": {},
   "source": [
    "✏️Homework:\n",
    "open() is a function defined in the io module in Python. Well, then do a research for what the io module is?\n",
    "\n",
    "https://docs.python.org/3/library/io.html#module-io"
   ]
  },
  {
   "attachments": {},
   "cell_type": "markdown",
   "metadata": {},
   "source": [
    "The encoding parameter :\n",
    "\n",
    " indicates the encoding that needs to be used to decode or encode a file. The default value depends on the platform you use and its language. UTF-8 is one of the most preferred used encodings, and Python generally defaults to using it. UTF stands for “Unicode Transformation Format”, and the ‘8’ means that 8-bit values are used in the encoding. \n",
    "\n",
    "Sometimes it may take time to know if you are using the correct encoding in your file. Therefore, if the file you're trying to open looks unusual or wrong, or gives an error, you might need to deal with this parameter a bit.\n",
    " "
   ]
  },
  {
   "cell_type": "code",
   "execution_count": null,
   "metadata": {},
   "outputs": [],
   "source": [
    "my_file = open(\"first_file.txt\", encoding=\"utf-8\")\n",
    "# we've used 'utf8' encoding format just the same as the previous one"
   ]
  },
  {
   "attachments": {},
   "cell_type": "markdown",
   "metadata": {},
   "source": [
    "'mode' Parameter :\n",
    "\n",
    "the most important parameters of the open() function\n",
    "several options that regulate how or for what purpose we open the file. \n",
    "\n",
    "'r' : \n",
    "\n",
    "open for reading (default). If the file doesn't exist, FileNotFoundError will raise\n",
    "\n",
    "'a' :\n",
    "\n",
    "Open for writing. It will append to the end of the file if it already exists. If there is no file, it will create it.\n",
    "\n",
    "'w' :\n",
    "\n",
    "Open for writing. It will be overwritten if the file already exists. If there is no file, it will create it.\n",
    "\n",
    "'x' :\n",
    "\n",
    "Open for exclusive creation, it will fail if the file already exists.\n",
    "\n",
    "'b' :\n",
    "\n",
    "Open in binary mode\n",
    "\n",
    "'t' : \n",
    "\n",
    "Open as a text file (default)\n",
    "\n",
    "'+' :\n",
    "\n",
    "open for updating (reading and writing)\n",
    "\n",
    "\n",
    "By default, open() function executes opening the file for reading ('r') as a text ('t'). In other words, it defaults to 'r' or 'rt' which means open for reading in text mode.\n",
    "\n",
    "💡Tips:\n",
    "Note that, as you can see above, depending on what you are going to do with the file, you can combine the modes according to your needs.\n",
    "If you want to open and be able to read, modify, and update the existing file you should set the mode as 'r+'.\n",
    "\n",
    "files opened in 'binary' mode return contents as bytes objects without any decoding. In 'text' mode, the contents of the file are returned as str, the bytes having been first decoded using a platform-dependent encoding or using the specified encoding if given."
   ]
  },
  {
   "attachments": {},
   "cell_type": "markdown",
   "metadata": {},
   "source": [
    "Reading the Files with '.read()' Method\n",
    "\n",
    ".read(size)\n",
    ".readline(size)\n",
    ".readlines()\n",
    "using loops\n",
    "\n",
    "1. .read(size) :\n",
    "\n",
    "This method is generally the most preferred method. This method reads the size bytes (characters) of the file. If this parameter is not specified, the entire file is read at once.\n",
    "\n",
    "💡Tips :\n",
    "Be sure to close the file you opened using the .close() method."
   ]
  },
  {
   "cell_type": "code",
   "execution_count": 68,
   "metadata": {},
   "outputs": [
    {
     "name": "stdout",
     "output_type": "stream",
     "text": [
      "Orca is a kind of Dolphin.\n",
      "Blue Whale is the largest animal known on earth.\n",
      "Sharks are the sister group to the Rays (batoids).\n",
      "The Tuna Fish can weigh up to 260 kg.\n",
      "Squid and Octopus are in the same class.\n"
     ]
    }
   ],
   "source": [
    "sea = open(\"fishes.txt\", 'r')   \n",
    "\n",
    "print(sea.read())  # displays the entire text content\n",
    "\n",
    "sea.close()  # be sure to close the file"
   ]
  },
  {
   "attachments": {},
   "cell_type": "markdown",
   "metadata": {},
   "source": [
    "Now let's do some readings using the size parameter. It specifies the sequence number of the characters starting at number 1."
   ]
  },
  {
   "cell_type": "code",
   "execution_count": 69,
   "metadata": {},
   "outputs": [
    {
     "name": "stdout",
     "output_type": "stream",
     "text": [
      "Orca is a kind of Dolphin.\n",
      "Blue W\n",
      "\n",
      "hale is the largest anima\n",
      "\n",
      "Orca is a kind of Dolphin.\n",
      "Blue W\n",
      "\n",
      "34\n"
     ]
    }
   ],
   "source": [
    "sea = open(\"fishes.txt\", 'r')   \n",
    "\n",
    "print(sea.read(33))  # displays the first 33 chars of the text\n",
    "print()\n",
    "print(sea.read(25))  # displays the next 25 chars of the text\n",
    "print()\n",
    "sea.seek(0)  # changes the stream (cursor) position to zero\n",
    "print(sea.read(33))  # displays the first 33 chars again\n",
    "print()\n",
    "print(sea.tell())  # returns the current stream (cursor) position\n",
    "\n",
    "sea.close()"
   ]
  },
  {
   "attachments": {},
   "cell_type": "markdown",
   "metadata": {},
   "source": [
    "💡Tips:\n",
    "Note that; while .read(33) counting the first 33 bytes, it covers newline \\n and space character of the file text.\n",
    "The offset= 0 indicating the first character of the text, '.seek(offset) method' changes the stream (cursor) position to a given offset."
   ]
  },
  {
   "cell_type": "code",
   "execution_count": 70,
   "metadata": {},
   "outputs": [
    {
     "name": "stdout",
     "output_type": "stream",
     "text": [
      "Orca \n"
     ]
    }
   ],
   "source": [
    "my_file = open(\"fishes.txt\", 'r')   \n",
    "print(my_file.read(5)) \n",
    "my_file.close()"
   ]
  },
  {
   "attachments": {},
   "cell_type": "markdown",
   "metadata": {},
   "source": [
    "2. .readline(size) :\n",
    "\n",
    "This method reads only size bytes from a single line of the text.\n",
    "\n",
    "💡Tips:\n",
    "Note that; .readline() reads the entire line.\n",
    "Pay attention to the output that there are empty lines between each line."
   ]
  },
  {
   "cell_type": "code",
   "execution_count": 71,
   "metadata": {},
   "outputs": [
    {
     "name": "stdout",
     "output_type": "stream",
     "text": [
      "Orca is a kind of Dolphin.\n",
      "\n",
      "Blue Whale is the largest animal known on earth.\n",
      "\n",
      "Sharks are the sister group to the Rays (batoids).\n",
      "\n"
     ]
    }
   ],
   "source": [
    "sea = open(\"fishes.txt\", 'r')   \n",
    "\n",
    "print(sea.readline())  # displays the first line of the text\n",
    "print(sea.readline())  # displays the second line\n",
    "print(sea.readline())  # each time it goes to the new line\n",
    "\n",
    "sea.close()"
   ]
  },
  {
   "attachments": {},
   "cell_type": "markdown",
   "metadata": {},
   "source": [
    " an example using the size parameter. The first line of the text contains 26 bytes (characters) except the newline char (\\n). But, note that the newline character (\\n) is considered as a part of each line. Then the first line of text consists of 27 characters. Let's choose 13 as the size parameter and see what happens :\n",
    "\n",
    " reads 13 chars through the line and it continues to read 13 chars each until the line ends, and only then passes to the next line."
   ]
  },
  {
   "cell_type": "code",
   "execution_count": 72,
   "metadata": {},
   "outputs": [
    {
     "name": "stdout",
     "output_type": "stream",
     "text": [
      "Orca is a kin\n",
      "d of Dolphin.\n",
      "\n",
      "\n",
      "Blue Whale is\n"
     ]
    }
   ],
   "source": [
    "sea = open(\"fishes.txt\", 'r')   \n",
    "\n",
    "print(sea.readline(13))\n",
    "print(sea.readline(13))\n",
    "print(sea.readline(13))\n",
    "print(sea.readline(13))\n",
    "\n",
    "sea.close()"
   ]
  },
  {
   "attachments": {},
   "cell_type": "markdown",
   "metadata": {},
   "source": [
    "3. .readlines() :\n",
    "\n",
    "And the third method in reading the files in Python is .readlines(). It reads the entire file line by line in the list form."
   ]
  },
  {
   "cell_type": "code",
   "execution_count": 73,
   "metadata": {},
   "outputs": [
    {
     "name": "stdout",
     "output_type": "stream",
     "text": [
      "['Orca is a kind of Dolphin.\\n', 'Blue Whale is the largest animal known on earth.\\n', 'Sharks are the sister group to the Rays (batoids).\\n', 'The Tuna Fish can weigh up to 260 kg.\\n', 'Squid and Octopus are in the same class.']\n"
     ]
    }
   ],
   "source": [
    "sea = open(\"fishes.txt\", 'r')   \n",
    "\n",
    "print(sea.readlines())\n",
    "\n",
    "sea.close()"
   ]
  }
 ],
 "metadata": {
  "kernelspec": {
   "display_name": "Python 3",
   "language": "python",
   "name": "python3"
  },
  "language_info": {
   "codemirror_mode": {
    "name": "ipython",
    "version": 3
   },
   "file_extension": ".py",
   "mimetype": "text/x-python",
   "name": "python",
   "nbconvert_exporter": "python",
   "pygments_lexer": "ipython3",
   "version": "3.11.0"
  },
  "orig_nbformat": 4,
  "vscode": {
   "interpreter": {
    "hash": "ac03433bef3bb9a934b0014c4b5537320df1aa82d9338bf368b04657a1d3ce08"
   }
  }
 },
 "nbformat": 4,
 "nbformat_minor": 2
}
