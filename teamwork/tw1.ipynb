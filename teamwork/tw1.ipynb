{
 "cells": [
  {
   "cell_type": "code",
   "execution_count": 1,
   "metadata": {},
   "outputs": [
    {
     "name": "stdout",
     "output_type": "stream",
     "text": [
      "ce\n"
     ]
    }
   ],
   "source": [
    "print('abcd'[2:])"
   ]
  },
  {
   "cell_type": "code",
   "execution_count": 2,
   "metadata": {},
   "outputs": [
    {
     "name": "stdout",
     "output_type": "stream",
     "text": [
      "False\n"
     ]
    }
   ],
   "source": [
    "print('xyyzxyzxyy'.endswith('xyy', 0, 2))"
   ]
  },
  {
   "cell_type": "code",
   "execution_count": 3,
   "metadata": {},
   "outputs": [
    {
     "name": "stdout",
     "output_type": "stream",
     "text": [
      "['ab', 'ef', 'gh', '']\n"
     ]
    }
   ],
   "source": [
    "print('abcdefcdghcd'.split('cd'))"
   ]
  },
  {
   "cell_type": "code",
   "execution_count": 4,
   "metadata": {},
   "outputs": [
    {
     "name": "stdout",
     "output_type": "stream",
     "text": [
      "rr\n",
      "qq\n",
      "pp\n"
     ]
    }
   ],
   "source": [
    "for x in set('pqr'):\n",
    "    print(x*2)"
   ]
  },
  {
   "cell_type": "code",
   "execution_count": 1,
   "metadata": {},
   "outputs": [
    {
     "name": "stdout",
     "output_type": "stream",
     "text": [
      "4\n"
     ]
    }
   ],
   "source": [
    "print((3**2)//2)"
   ]
  },
  {
   "attachments": {},
   "cell_type": "markdown",
   "metadata": {},
   "source": [
    "Coding Challenge 1: reverse string"
   ]
  },
  {
   "cell_type": "code",
   "execution_count": 12,
   "metadata": {},
   "outputs": [
    {
     "name": "stdout",
     "output_type": "stream",
     "text": [
      "olleh\n"
     ]
    }
   ],
   "source": [
    "string = input('please enter word(s) to reverse')\n",
    "\n",
    "split_string = [*string]\n",
    "reversed_array = []\n",
    "\n",
    "for i in split_string:\n",
    "    reversed_array.insert(0,i)\n",
    "\n",
    "reversed_string = ''.join(reversed_array)\n",
    "print(reversed_string)"
   ]
  },
  {
   "attachments": {},
   "cell_type": "markdown",
   "metadata": {},
   "source": [
    "Coding Challenge 2: reverse words of array"
   ]
  },
  {
   "cell_type": "code",
   "execution_count": 16,
   "metadata": {},
   "outputs": [
    {
     "name": "stdout",
     "output_type": "stream",
     "text": [
      "you? are How\n"
     ]
    }
   ],
   "source": [
    "sentence = \"How are you?\"\n",
    "sentence_list = sentence.split(' ')\n",
    "reversed_list = []\n",
    "\n",
    "for i in sentence_list:\n",
    "    reversed_list.insert(0,i)\n",
    "reversed_sentence = \" \".join(reversed_list)\n",
    "print(reversed_sentence)"
   ]
  },
  {
   "attachments": {},
   "cell_type": "markdown",
   "metadata": {},
   "source": [
    "Coding Challenge 5: Bracket Validator\n",
    "\n",
    "didn't find solution"
   ]
  },
  {
   "cell_type": "code",
   "execution_count": 19,
   "metadata": {},
   "outputs": [
    {
     "name": "stdout",
     "output_type": "stream",
     "text": [
      "False\n"
     ]
    }
   ],
   "source": [
    "series = '[({})]'\n",
    "\n",
    "def balancedBrackets(series):\n",
    "    store = []\n",
    "\n",
    "    for i in series:\n",
    "        if i in ['(', '[', '{']:\n",
    "            store.append(i)\n",
    "        else:\n",
    "            if not store:\n",
    "                return False\n",
    "            current = stack.pop()\n",
    "            if current == '(':\n",
    "                if i != ')':\n",
    "                    return False\n",
    "            if current == '[':\n",
    "                if i != ']':\n",
    "                    return False\n",
    "            if current == '{':\n",
    "                if i != '}':\n",
    "                    return False\n",
    "        if store:\n",
    "            return False\n",
    "        return True\n",
    "    \n",
    "if balancedBrackets(series):\n",
    "    print('True')\n",
    "else:\n",
    "    print('False')"
   ]
  },
  {
   "attachments": {},
   "cell_type": "markdown",
   "metadata": {},
   "source": [
    "Coding challenge 8: series of challenges (10)"
   ]
  },
  {
   "attachments": {},
   "cell_type": "markdown",
   "metadata": {},
   "source": [
    "1. write a function to remove the first occurrence of a given 'search string' from a string"
   ]
  },
  {
   "cell_type": "code",
   "execution_count": 21,
   "metadata": {},
   "outputs": [
    {
     "data": {
      "text/plain": [
       "', this is a string'"
      ]
     },
     "execution_count": 21,
     "metadata": {},
     "output_type": "execute_result"
    }
   ],
   "source": [
    "og_string = 'Hello, this is a string'\n",
    "def remove_function(string):\n",
    "    result = og_string.replace(string,'',1)\n",
    "    return result\n",
    "\n",
    "remove_function('Hello')"
   ]
  },
  {
   "attachments": {},
   "cell_type": "markdown",
   "metadata": {},
   "source": [
    "2. write a simple program to join all elements of the following array into a string"
   ]
  },
  {
   "cell_type": "code",
   "execution_count": 22,
   "metadata": {},
   "outputs": [
    {
     "name": "stdout",
     "output_type": "stream",
     "text": [
      "Red Green White Black\n"
     ]
    }
   ],
   "source": [
    "myColor = [\"Red\", \"Green\", \"White\", \"Black\"]\n",
    "print(' '.join(myColor))"
   ]
  },
  {
   "attachments": {},
   "cell_type": "markdown",
   "metadata": {},
   "source": [
    "3. write a program to find the most frequent item of an array"
   ]
  },
  {
   "cell_type": "code",
   "execution_count": 26,
   "metadata": {},
   "outputs": [
    {
     "name": "stdout",
     "output_type": "stream",
     "text": [
      "{2, 3, 4, 9, 'a'}\n",
      "a\n"
     ]
    }
   ],
   "source": [
    "arr1=[3, 'a', 'a', 'a', 2, 3, 'a', 3, 'a', 2, 4, 9, 3]\n",
    "print(set(arr1))\n",
    "\n",
    "most_frequent = max(set(arr1), key = arr1.count)\n",
    "print(most_frequent)"
   ]
  },
  {
   "cell_type": "code",
   "execution_count": 28,
   "metadata": {},
   "outputs": [
    {
     "name": "stdout",
     "output_type": "stream",
     "text": [
      "{3: 4, 'a': 5, 2: 2, 4: 1, 9: 1}\n",
      "5 a\n"
     ]
    }
   ],
   "source": [
    "arr1=[3, 'a', 'a', 'a', 2, 3, 'a', 3, 'a', 2, 4, 9, 3]\n",
    "\n",
    "dict1 = {}\n",
    "\n",
    "for i in arr1:\n",
    "    if i in dict1:\n",
    "        dict1[i] += 1\n",
    "    else:\n",
    "        dict1[i] = 1\n",
    "print(dict1)\n",
    "\n",
    "max_count = 0\n",
    "max_item = ''\n",
    "\n",
    "for i in dict1:\n",
    "    if dict1[i] > max_count:\n",
    "        max_count = dict1[i]\n",
    "        max_item = i\n",
    "print(max_count, max_item)\n"
   ]
  },
  {
   "attachments": {},
   "cell_type": "markdown",
   "metadata": {},
   "source": [
    "4. given a list of numbers and a number k, return whether any two numbers from the list add up to k\n",
    "\n",
    "For example, given [10, 15, 3, 7] and k of 17, return true since 10 + 7 is 17."
   ]
  },
  {
   "cell_type": "code",
   "execution_count": 33,
   "metadata": {},
   "outputs": [
    {
     "name": "stdout",
     "output_type": "stream",
     "text": [
      "10 7\n"
     ]
    }
   ],
   "source": [
    "arr1 = [10, 15, 3, 7]\n",
    "k = 17\n",
    "\n",
    "for i in range(len(arr1)):\n",
    "    for j in range(i +1, len(arr1)):\n",
    "        if arr1[i] + arr1[j] == k:\n",
    "            print(arr1[i], arr1[j])"
   ]
  },
  {
   "cell_type": "code",
   "execution_count": 39,
   "metadata": {},
   "outputs": [
    {
     "name": "stdout",
     "output_type": "stream",
     "text": [
      "7 10\n"
     ]
    }
   ],
   "source": [
    "arr1 = [10, 15, 3, 7]\n",
    "k = 17\n",
    "set1 = set()\n",
    "for i in arr1:\n",
    "    if k-i in set1:\n",
    "        print(i, k-i)\n",
    "    set1.add(i)"
   ]
  },
  {
   "attachments": {},
   "cell_type": "markdown",
   "metadata": {},
   "source": [
    "5. write a code to filter strings that have more than 5 characters in the provided list"
   ]
  },
  {
   "cell_type": "code",
   "execution_count": 24,
   "metadata": {},
   "outputs": [
    {
     "name": "stdout",
     "output_type": "stream",
     "text": [
      "['elephant', 'desert', 'pumpkin']\n"
     ]
    }
   ],
   "source": [
    "words = ['car', \"elephant\", \"desert\", \"pumpkin\", \"eat\", \"fish\", \"dish\"]\n",
    "\n",
    "new_list = []\n",
    "\n",
    "for i in words:\n",
    "    if len(i) > 5:\n",
    "        new_list.append(i)\n",
    "print(new_list)"
   ]
  },
  {
   "cell_type": "code",
   "execution_count": 41,
   "metadata": {},
   "outputs": [
    {
     "name": "stdout",
     "output_type": "stream",
     "text": [
      "['elephant', 'desert', 'pumpkin']\n"
     ]
    }
   ],
   "source": [
    "words = ['car', \"elephant\", \"desert\", \"pumpkin\", \"eat\", \"fish\", \"dish\"]\n",
    "\n",
    "new_list = filter(lambda x : len(x) > 5, words)\n",
    "\n",
    "print(list(new_list))"
   ]
  },
  {
   "attachments": {},
   "cell_type": "markdown",
   "metadata": {},
   "source": [
    "6. Write a code to display the repetition number of each character in a string.\n",
    "\n",
    "The expected Result for \"www.clarusway.com\" is: {'w': 4, '.': 2, 'c': 2, 'l': 1, 'a': 2, 'r': 1, 'u': 1, 's': 1, 'y': 1, 'o': 1, 'm': 1}"
   ]
  },
  {
   "cell_type": "code",
   "execution_count": 42,
   "metadata": {},
   "outputs": [
    {
     "name": "stdout",
     "output_type": "stream",
     "text": [
      "{'w': 4, '.': 2, 'c': 2, 'l': 1, 'a': 2, 'r': 1, 'u': 1, 's': 1, 'y': 1, 'o': 1, 'm': 1}\n"
     ]
    }
   ],
   "source": [
    "str1 = 'www.clarusway.com'\n",
    "dict1 = {}\n",
    "\n",
    "for i in str1:\n",
    "    if i in dict1:\n",
    "        dict1[i] += 1\n",
    "    else:\n",
    "        dict1[i] = 1\n",
    "print(dict1)\n",
    "\n"
   ]
  },
  {
   "attachments": {},
   "cell_type": "markdown",
   "metadata": {},
   "source": [
    "7. Write a code to find intersection of 3 lists below"
   ]
  },
  {
   "cell_type": "code",
   "execution_count": 43,
   "metadata": {},
   "outputs": [
    {
     "name": "stdout",
     "output_type": "stream",
     "text": [
      "[5]\n"
     ]
    }
   ],
   "source": [
    "list1 = [11, 4, 5, 9, 7]\n",
    "list2 = [5, 10, 4, 1, 10]\n",
    "list3 = [7, 3, 9, 5, 1]\n",
    "\n",
    "def intersection (l1, l2, l3):\n",
    "    s1 = set(l1)\n",
    "    s2 = set(l2)\n",
    "    s3 = set(l3)\n",
    "\n",
    "    set1 = s1.intersection(s2).intersection(s3)\n",
    "    result_list = list(set1)\n",
    "    print(result_list)\n",
    "\n",
    "intersection(list1,list2,list3)"
   ]
  },
  {
   "attachments": {},
   "cell_type": "markdown",
   "metadata": {},
   "source": [
    "8. Given an array of integers, return a new array such that each element at index i of the new array is the product of all the numbers in the original array except the one at i.\n",
    "\n",
    " if our input was [1, 2, 3, 4, 5], the expected output would be [120, 60, 40, 30, 24]."
   ]
  },
  {
   "cell_type": "code",
   "execution_count": 45,
   "metadata": {},
   "outputs": [
    {
     "name": "stdout",
     "output_type": "stream",
     "text": [
      "120\n",
      "[120, 60, 40, 30, 24]\n"
     ]
    }
   ],
   "source": [
    "list1 = [1, 2, 3, 4, 5]\n",
    "product = 1\n",
    "list2 = []\n",
    "for i in list1:\n",
    "    product *= i\n",
    "    \n",
    "print(product)\n",
    "\n",
    "for i in list1:\n",
    "    list2.append(product//i)\n",
    "\n",
    "print(list2)"
   ]
  },
  {
   "cell_type": "code",
   "execution_count": 46,
   "metadata": {},
   "outputs": [
    {
     "name": "stdout",
     "output_type": "stream",
     "text": [
      "[120, 60, 40, 30, 24]\n"
     ]
    }
   ],
   "source": [
    "list1 = [1, 2, 3, 4, 5]\n",
    "list2 = []\n",
    "\n",
    "for i in range(len(list1)):\n",
    "    product = 1\n",
    "    for j in range(len(list1)):\n",
    "        if i != j:\n",
    "            product *= list1[j]\n",
    "    list2.append(product)\n",
    "print(list2)"
   ]
  },
  {
   "attachments": {},
   "cell_type": "markdown",
   "metadata": {},
   "source": [
    "9. Given an array of integers, find the first missing positive integer in linear time and constant space. In other words, find the lowest positive integer that does not exist in the array. The array can contain duplicates and negative numbers as well.\n",
    "\n",
    "the input [3, 4, -1, 1] should give 2.\n",
    " input [1, 2, 0] should give 3"
   ]
  },
  {
   "cell_type": "code",
   "execution_count": 57,
   "metadata": {},
   "outputs": [],
   "source": [
    "arr1 = [3, 4, -1, 1, 2]\n",
    "max1 = max(arr1)\n",
    "count = 1\n",
    "\n",
    "if max1 < 1:\n",
    "    print(1)\n",
    "\n",
    "if count in arr1:\n",
    "    count += 1\n",
    "\n",
    "if count not in arr1:\n",
    "    print(count)\n",
    "\n"
   ]
  },
  {
   "attachments": {},
   "cell_type": "markdown",
   "metadata": {},
   "source": [
    "10. Given a list of integers, write a function that returns the largest sum of non-adjacent numbers. Numbers can be 0 or negative\n",
    "\n",
    "[2, 4, 6, 2, 5] should return 13, since we pick 2, 6, and 5\n",
    "\n",
    "[5, 1, 1, 5] should return 10, since we pick 5 and 5"
   ]
  },
  {
   "cell_type": "code",
   "execution_count": null,
   "metadata": {},
   "outputs": [],
   "source": [
    "arr1 = [2, 4, 6, 2, 5]\n",
    "\n",
    "def max_sum(arr):\n",
    "    if not arr:\n",
    "        return 0\n",
    "    \n",
    "    option1 = arr[0] + find_max(arr[2:])\n",
    "    option2 = find_max(arr[1:])\n",
    "    "
   ]
  },
  {
   "attachments": {},
   "cell_type": "markdown",
   "metadata": {},
   "source": [
    "factorial"
   ]
  },
  {
   "cell_type": "code",
   "execution_count": 58,
   "metadata": {},
   "outputs": [
    {
     "data": {
      "text/plain": [
       "120"
      ]
     },
     "execution_count": 58,
     "metadata": {},
     "output_type": "execute_result"
    }
   ],
   "source": [
    "def fact(n):\n",
    "    if n == 1:\n",
    "        return 1\n",
    "    return n * fact(n-1)\n",
    "\n",
    "fact(5)"
   ]
  }
 ],
 "metadata": {
  "kernelspec": {
   "display_name": "Python 3.11.0 64-bit",
   "language": "python",
   "name": "python3"
  },
  "language_info": {
   "codemirror_mode": {
    "name": "ipython",
    "version": 3
   },
   "file_extension": ".py",
   "mimetype": "text/x-python",
   "name": "python",
   "nbconvert_exporter": "python",
   "pygments_lexer": "ipython3",
   "version": "3.11.0"
  },
  "orig_nbformat": 4,
  "vscode": {
   "interpreter": {
    "hash": "ac03433bef3bb9a934b0014c4b5537320df1aa82d9338bf368b04657a1d3ce08"
   }
  }
 },
 "nbformat": 4,
 "nbformat_minor": 2
}
