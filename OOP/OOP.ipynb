{
 "cells": [
  {
   "attachments": {},
   "cell_type": "markdown",
   "metadata": {},
   "source": [
    "Fundamentals of OOP\n",
    "\n",
    "Object-oriented programming (OOP) is a programming paradigm based on the concept of objects that interact with each other to perform the program functions. Each object can be characterized by a state and behavior. An object keeps the current state in the fields and the behavior in the methods.\n",
    "\n",
    "Basic Principles of OOP\n",
    "\n",
    "There are four basic principles of OOP. They are encapsulation, abstraction, inheritance, and polymorphism. \n",
    "\n",
    "Data encapsulation is the mechanism of hiding the internal data of objects from the world. All interaction with the object and its data are performed through its public methods. Encapsulation allows programmers to protect the object from inconsistency.\n",
    "\n",
    "Data abstraction means that objects should provide the simplified, abstract version of their implementations. The details of their internal work usually aren't necessary for the user, so there's no need to represent them. Abstraction also means that only the most relevant features of the object will be presented.\n",
    "\n",
    "Inheritance is a mechanism for defining parent-child relationships between classes. Often objects are very similar, so inheritance allows programmers to reuse common logic and at the same time introduce unique concepts into the classes.\n",
    "\n",
    "Polymorphism literally means one name and many forms, and it concerns the inheritance of the classes. Just as the name suggests, it allows programmers to define different logic of the same method. So, the name (or interface) stays the same, but the actions performed may be different. In practice, it is done with overloading or overriding.\n",
    "\n",
    "💡Tips:\n",
    "These are the key concepts of OOP. Each object-oriented language implements these principles in its own way, but the essence stays the same from language to language.\n",
    "\n",
    "💡Tips:\n",
    "In OOP, everything can be considered an object."
   ]
  },
  {
   "attachments": {},
   "cell_type": "markdown",
   "metadata": {},
   "source": [
    "Classes\n",
    "\n",
    "Often, many individual objects have similar characteristics. We can say these objects belong to the same type or class.\n",
    "\n",
    "A class is another important notion of OOP. A class describes a common structure of similar objects: their fields and methods. It may be considered a template or a blueprint for similar objects. An object is an individual instance of a class.\n",
    "\n",
    "⚠️ Attention !:\n",
    "To put it concisely, you should remember the following:\n",
    "an object-oriented program consists of a set of interacting objects;\n",
    "as a rule, the internal state of an object is hidden;\n",
    "an object may have characteristics: fields and methods;\n",
    "an object is an instance of a class (type);\n",
    "a class is a more abstract concept than an individual object; it may be considered a template or blueprint that describes the common structure of a set of similar objects."
   ]
  },
  {
   "attachments": {},
   "cell_type": "markdown",
   "metadata": {},
   "source": [
    "Encapsulation\n",
    "\n",
    " bundling data with the methods operating with it while restricting direct access to some components.\n",
    "\n"
   ]
  },
  {
   "attachments": {},
   "cell_type": "markdown",
   "metadata": {},
   "source": [
    "Getters and Setters\n",
    "\n",
    "You can create a class with some data that no one can change, while it is also possible to provide it with some safety mechanism prohibiting any modification. For the data that should never change from the outside, let's not allow any ways at all. It seems reasonable to keep a user away from dangerous and unpredictable operations.\n",
    "\n",
    "The easiest way to do so, which is also a common practice in many object-oriented languages, is to create methods to get and set data. \n",
    "\n",
    "These methods are known as getters and setters. You might think it's needless as with them, we can still arbitrarily change an object, but it's not true. \n",
    "\n",
    "Using setters, we can declare that there should be an actor to change an object. Moreover, with the SET method, we can check if the new data are correct, and if it doesn't break the consistency of an object. In case it does, we can prevent the operation from causing that.\n",
    "\n",
    "⚠️ Attention ! :\n",
    "As we said, most but not all languages use setters. What are the other methods to change an object?"
   ]
  },
  {
   "attachments": {},
   "cell_type": "markdown",
   "metadata": {},
   "source": [
    "Protecting Data\n",
    "\n",
    "Some languages are using keywords to set the visibility for the fields of a class. With their help, you can choose the exact scope where you can access the variable. \n",
    "\n",
    "The other method is the name conventions. For example, you can set up a rule that all the attributes starting with a capital letter are public, but all the variables starting with a lowercase letter are accessible only in the inner scope.\n",
    "\n",
    "Public access means that an attribute can be accessed directly by name.\n",
    "\n",
    "Name mangling is a principle of changing a field name for external access. Assume that your class has an attribute MINUTES, and for all the other scopes out of this class, this attribute will be available as DO_NOT_USE_THESE_MINUTES. It doesn't restrict access to an attribute but shows a red flag to do so.\n",
    "\n",
    "💡Tips:\n",
    "If you want to give read-only access to the field, you should use a getter. "
   ]
  },
  {
   "attachments": {},
   "cell_type": "markdown",
   "metadata": {},
   "source": [
    "Classes and Instances\n",
    "\n",
    "Classes allow us to logically group our data and functions in a way that is easy to reuse and also easy to build upon if need be. \n",
    "\n",
    "Class methods are methods that automatically take the class as the first argument. Class methods can also be used as alternative constructors. \n",
    "\n",
    "Static methods do not take the instance or the class as the first argument. They behave just like normal functions, yet they should have some logical connection to our class.\n",
    "\n",
    "Inheritance allows us to inherit attributes and methods from a parent class. This is useful because we can create subclasses and get all of the functionality of our parents' class, and have the ability to overwrite or add completely new functionality without affecting the parents' class in anyways."
   ]
  },
  {
   "attachments": {},
   "cell_type": "markdown",
   "metadata": {},
   "source": [
    "Special (Magic / Dunder) Methods\n",
    "\n",
    "In this Python Object-Oriented Tutorial, we will be learning about special methods. \n",
    "\n",
    "These are also called magic or dunder methods. These methods allow us to emulate built-in types or implement operator overloading. \n",
    "\n",
    "These can be extremely powerful if used correctly. We will start by writing a few special methods of our own and then look at how some of them are used in the Standard Library."
   ]
  },
  {
   "attachments": {},
   "cell_type": "markdown",
   "metadata": {},
   "source": [
    "Property Decorators\n",
    "In this Python Object-Oriented Tutorial, we will be learning about the property decorator. \n",
    "\n",
    "The property decorator allows us to define Class methods that we can access like attributes. This allows us to implement getters, setters, and deleters. "
   ]
  },
  {
   "cell_type": "code",
   "execution_count": null,
   "metadata": {},
   "outputs": [],
   "source": []
  }
 ],
 "metadata": {
  "kernelspec": {
   "display_name": "Python 3",
   "language": "python",
   "name": "python3"
  },
  "language_info": {
   "name": "python",
   "version": "3.11.0 (main, Oct 24 2022, 18:26:48) [MSC v.1933 64 bit (AMD64)]"
  },
  "orig_nbformat": 4,
  "vscode": {
   "interpreter": {
    "hash": "ac03433bef3bb9a934b0014c4b5537320df1aa82d9338bf368b04657a1d3ce08"
   }
  }
 },
 "nbformat": 4,
 "nbformat_minor": 2
}
